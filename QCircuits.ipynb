{
 "cells": [
  {
   "cell_type": "markdown",
   "id": "db95259e",
   "metadata": {},
   "source": [
    "## QCircuits"
   ]
  },
  {
   "cell_type": "markdown",
   "id": "a0e8493a",
   "metadata": {},
   "source": [
    "The fundamental unit of Qiskit is the **quantum circuit** "
   ]
  },
  {
   "cell_type": "code",
   "execution_count": 2,
   "id": "289ca08d",
   "metadata": {},
   "outputs": [],
   "source": [
    "## importing libs\n",
    "from qiskit import QuantumCircuit, assemble, Aer\n",
    "from qiskit.visualization import plot_histogram"
   ]
  },
  {
   "cell_type": "code",
   "execution_count": 3,
   "id": "00c62be3",
   "metadata": {},
   "outputs": [],
   "source": [
    "sim = Aer.get_backend('aer_simulator')  # simulator for testing"
   ]
  },
  {
   "cell_type": "code",
   "execution_count": 4,
   "id": "017f57d0",
   "metadata": {},
   "outputs": [],
   "source": [
    "n = 8\n",
    "n_q = n ##  number of qubits in the circuit.\n",
    "n_b = n ## number of output bits we will extract from the circuit at the end.\n",
    "qc_output = QuantumCircuit(n_q,n_b)"
   ]
  },
  {
   "cell_type": "code",
   "execution_count": 5,
   "id": "5dda29c1",
   "metadata": {},
   "outputs": [],
   "source": [
    "## The extraction of outputs in a quantum circuit is done using an operation called measure.\n",
    "for j in range(n):\n",
    "    qc_output.measure(j,j)"
   ]
  },
  {
   "cell_type": "code",
   "execution_count": 6,
   "id": "64f82e86",
   "metadata": {
    "scrolled": false
   },
   "outputs": [
    {
     "data": {
      "image/png": "[encoded data removed]",
      "text/plain": [
       "<Figure size 568.197x565.88 with 1 Axes>"
      ]
     },
     "execution_count": 6,
     "metadata": {},
     "output_type": "execute_result"
    }
   ],
   "source": [
    "qc_output.draw('mpl')"
   ]
  },
  {
   "cell_type": "code",
   "execution_count": 7,
   "id": "5f9324d8",
   "metadata": {
    "scrolled": false
   },
   "outputs": [
    {
     "name": "stderr",
     "output_type": "stream",
     "text": [
      "c:\\users\\ashok\\appdata\\local\\programs\\python\\python39\\lib\\site-packages\\qiskit\\utils\\deprecation.py:62: DeprecationWarning: Using a qobj for run() is deprecated as of qiskit-aer 0.9.0 and will be removed no sooner than 3 months from that release date. Transpiled circuits should now be passed directly using `backend.run(circuits, **run_options).\n",
      "  return func(*args, **kwargs)\n"
     ]
    },
    {
     "data": {
      "image/png": "[encoded data removed]",
      "text/plain": [
       "<Figure size 504x360 with 1 Axes>"
      ]
     },
     "execution_count": 7,
     "metadata": {},
     "output_type": "execute_result"
    }
   ],
   "source": [
    "\n",
    "qobj = assemble(qc_output)  # assembling\n",
    "\n",
    "result = sim.run(qobj).result()  # we run the experiment and get the result from that experiment\n",
    "# from the results, we get a dictionary containing the number of times (counts) each result appeared\n",
    "\n",
    "counts = result.get_counts()\n",
    "\n",
    "# and display it on a histogram\n",
    "plot_histogram(counts)"
   ]
  },
  {
   "cell_type": "markdown",
   "id": "67475fee",
   "metadata": {},
   "source": [
    "All qubits are initialized to zero by default"
   ]
  },
  {
   "cell_type": "markdown",
   "id": "6a8d14df",
   "metadata": {},
   "source": [
    "### Encoding Circuit"
   ]
  },
  {
   "cell_type": "markdown",
   "id": "98e15457",
   "metadata": {},
   "source": [
    "Lets encode `100010` into the circuit."
   ]
  },
  {
   "cell_type": "code",
   "execution_count": 8,
   "id": "252834fa",
   "metadata": {
    "scrolled": true
   },
   "outputs": [
    {
     "data": {
      "text/html": [
       "<pre style=\"word-wrap: normal;white-space: pre;background: #fff0;line-height: 1.1;font-family: &quot;Courier New&quot;,Courier,monospace\">          \n",
       "q_0: ─────\n",
       "     ┌───┐\n",
       "q_1: ┤ X ├\n",
       "     └───┘\n",
       "q_2: ─────\n",
       "          \n",
       "q_3: ─────\n",
       "          \n",
       "q_4: ─────\n",
       "          \n",
       "q_5: ─────\n",
       "          \n",
       "q_6: ─────\n",
       "     ┌───┐\n",
       "q_7: ┤ X ├\n",
       "     └───┘</pre>"
      ],
      "text/plain": [
       "          \n",
       "q_0: ─────\n",
       "     ┌───┐\n",
       "q_1: ┤ X ├\n",
       "     └───┘\n",
       "q_2: ─────\n",
       "          \n",
       "q_3: ─────\n",
       "          \n",
       "q_4: ─────\n",
       "          \n",
       "q_5: ─────\n",
       "          \n",
       "q_6: ─────\n",
       "     ┌───┐\n",
       "q_7: ┤ X ├\n",
       "     └───┘"
      ]
     },
     "execution_count": 8,
     "metadata": {},
     "output_type": "execute_result"
    }
   ],
   "source": [
    "qc_encode = QuantumCircuit(n) #creating a new circuit\n",
    "qc_encode.x(1)  ## Adding Not Gate to the 7th qubit\n",
    "qc_encode.x(7)  ## Adding Not Gate to the 7th qubit\n",
    "qc_encode.draw()"
   ]
  },
  {
   "cell_type": "code",
   "execution_count": 9,
   "id": "04782974",
   "metadata": {},
   "outputs": [
    {
     "name": "stderr",
     "output_type": "stream",
     "text": [
      "<ipython-input-9-d357910cb630>:1: DeprecationWarning: The QuantumCircuit.__add__() method is being deprecated.Use the compose() method which is more flexible w.r.t circuit register compatibility.\n",
      "  qc = qc_encode + qc_output  ## Combining 2 circuits\n",
      "c:\\users\\ashok\\appdata\\local\\programs\\python\\python39\\lib\\site-packages\\qiskit\\circuit\\quantumcircuit.py:933: DeprecationWarning: The QuantumCircuit.combine() method is being deprecated. Use the compose() method which is more flexible w.r.t circuit register compatibility.\n",
      "  return self.combine(rhs)\n"
     ]
    },
    {
     "data": {
      "text/html": [
       "<pre style=\"word-wrap: normal;white-space: pre;background: #fff0;line-height: 1.1;font-family: &quot;Courier New&quot;,Courier,monospace\">          ┌─┐                     \n",
       "q_0: ─────┤M├─────────────────────\n",
       "     ┌───┐└╥┘               ┌─┐   \n",
       "q_1: ┤ X ├─╫────────────────┤M├───\n",
       "     └───┘ ║ ┌─┐            └╥┘   \n",
       "q_2: ──────╫─┤M├─────────────╫────\n",
       "           ║ └╥┘┌─┐          ║    \n",
       "q_3: ──────╫──╫─┤M├──────────╫────\n",
       "           ║  ║ └╥┘┌─┐       ║    \n",
       "q_4: ──────╫──╫──╫─┤M├───────╫────\n",
       "           ║  ║  ║ └╥┘┌─┐    ║    \n",
       "q_5: ──────╫──╫──╫──╫─┤M├────╫────\n",
       "           ║  ║  ║  ║ └╥┘┌─┐ ║    \n",
       "q_6: ──────╫──╫──╫──╫──╫─┤M├─╫────\n",
       "     ┌───┐ ║  ║  ║  ║  ║ └╥┘ ║ ┌─┐\n",
       "q_7: ┤ X ├─╫──╫──╫──╫──╫──╫──╫─┤M├\n",
       "     └───┘ ║  ║  ║  ║  ║  ║  ║ └╥┘\n",
       "c: 8/══════╩══╩══╩══╩══╩══╩══╩══╩═\n",
       "           0  2  3  4  5  6  1  7 </pre>"
      ],
      "text/plain": [
       "          ┌─┐                     \n",
       "q_0: ─────┤M├─────────────────────\n",
       "     ┌───┐└╥┘               ┌─┐   \n",
       "q_1: ┤ X ├─╫────────────────┤M├───\n",
       "     └───┘ ║ ┌─┐            └╥┘   \n",
       "q_2: ──────╫─┤M├─────────────╫────\n",
       "           ║ └╥┘┌─┐          ║    \n",
       "q_3: ──────╫──╫─┤M├──────────╫────\n",
       "           ║  ║ └╥┘┌─┐       ║    \n",
       "q_4: ──────╫──╫──╫─┤M├───────╫────\n",
       "           ║  ║  ║ └╥┘┌─┐    ║    \n",
       "q_5: ──────╫──╫──╫──╫─┤M├────╫────\n",
       "           ║  ║  ║  ║ └╥┘┌─┐ ║    \n",
       "q_6: ──────╫──╫──╫──╫──╫─┤M├─╫────\n",
       "     ┌───┐ ║  ║  ║  ║  ║ └╥┘ ║ ┌─┐\n",
       "q_7: ┤ X ├─╫──╫──╫──╫──╫──╫──╫─┤M├\n",
       "     └───┘ ║  ║  ║  ║  ║  ║  ║ └╥┘\n",
       "c: 8/══════╩══╩══╩══╩══╩══╩══╩══╩═\n",
       "           0  2  3  4  5  6  1  7 "
      ]
     },
     "execution_count": 9,
     "metadata": {},
     "output_type": "execute_result"
    }
   ],
   "source": [
    "qc = qc_encode + qc_output  ## Combining 2 circuits\n",
    "qc.draw()"
   ]
  },
  {
   "cell_type": "code",
   "execution_count": 10,
   "id": "80d847b8",
   "metadata": {},
   "outputs": [
    {
     "data": {
      "image/png": "[encoded data removed]",
      "text/plain": [
       "<Figure size 504x360 with 1 Axes>"
      ]
     },
     "execution_count": 10,
     "metadata": {},
     "output_type": "execute_result"
    }
   ],
   "source": [
    "## output of our new circuit\n",
    "qobj = assemble(qc)\n",
    "counts = sim.run(qobj).result().get_counts()\n",
    "plot_histogram(counts)"
   ]
  },
  {
   "cell_type": "markdown",
   "id": "a5e41f89",
   "metadata": {},
   "source": [
    "We see onlt 2nd and 7th bit is flipped, because of the not gate applied."
   ]
  },
  {
   "cell_type": "markdown",
   "id": "ed3f590d",
   "metadata": {},
   "source": [
    "### Half Adder Circuit"
   ]
  },
  {
   "cell_type": "code",
   "execution_count": 12,
   "id": "b9e9c499",
   "metadata": {},
   "outputs": [],
   "source": [
    "qc_ha = QuantumCircuit(4,2) # initializing the circuit"
   ]
  },
  {
   "cell_type": "code",
   "execution_count": 13,
   "id": "68ed7ac7",
   "metadata": {},
   "outputs": [
    {
     "data": {
      "text/plain": [
       "<qiskit.circuit.instructionset.InstructionSet at 0x1f40a04be50>"
      ]
     },
     "execution_count": 13,
     "metadata": {},
     "output_type": "execute_result"
    }
   ],
   "source": [
    "## Inputs in qubits 0 and 1\n",
    "\n",
    "qc_ha.x(0) # For input a=1.\n",
    "qc_ha.x(1) # For input b=1.\n",
    "\n",
    "qc_ha.barrier()"
   ]
  },
  {
   "cell_type": "code",
   "execution_count": 14,
   "id": "966eb931",
   "metadata": {},
   "outputs": [
    {
     "data": {
      "image/png": "[encoded data removed]",
      "text/plain": [
       "<Figure size 568.197x325.08 with 1 Axes>"
      ]
     },
     "execution_count": 14,
     "metadata": {},
     "output_type": "execute_result"
    }
   ],
   "source": [
    "##half adder circuitry\n",
    "\n",
    "# Calculating 0th bit of the sum, (1 when only one input is one, 0 when both inputs are 1)\n",
    "qc_ha.cx(0,2)\n",
    "qc_ha.cx(1,2)\n",
    "\n",
    "# Calculating 1st bit of the sum, (1 when both inputs are 1, else 0)\n",
    "qc_ha.ccx(0,1,3)  ## Toffoli gate - q0 and q1 are controller and q3 is target\n",
    "qc_ha.barrier()\n",
    "\n",
    "\n",
    "# extract outputs on classical bits\n",
    "qc_ha.measure(2,0) # extract XOR value\n",
    "qc_ha.measure(3,1) # extract AND value\n",
    "\n",
    "qc_ha.draw('mpl')"
   ]
  },
  {
   "cell_type": "code",
   "execution_count": 15,
   "id": "526eb50d",
   "metadata": {
    "scrolled": true
   },
   "outputs": [
    {
     "data": {
      "image/png": "[encoded data removed]",
      "text/plain": [
       "<Figure size 504x360 with 1 Axes>"
      ]
     },
     "execution_count": 15,
     "metadata": {},
     "output_type": "execute_result"
    }
   ],
   "source": [
    "qobj = assemble(qc_ha)\n",
    "counts = sim.run(qobj).result().get_counts()\n",
    "plot_histogram(counts)"
   ]
  },
  {
   "cell_type": "markdown",
   "id": "210a4124",
   "metadata": {},
   "source": [
    "## Running Circuit on real Quantum device\n",
    "\n",
    "IBM Quantum Experience provides number quantum devices on cloud for free.   \n",
    "We can run our  circuits, which would require few number of qubits, on them."
   ]
  },
  {
   "cell_type": "code",
   "execution_count": 16,
   "id": "b3c9c0c9",
   "metadata": {},
   "outputs": [],
   "source": [
    "simu = Aer.get_backend('qasm_simulator')  ## initialize simulator "
   ]
  },
  {
   "cell_type": "code",
   "execution_count": 21,
   "id": "959fc982",
   "metadata": {},
   "outputs": [],
   "source": [
    "from qiskit import IBMQ\n",
    "from qiskit.tools.monitor import job_monitor"
   ]
  },
  {
   "cell_type": "code",
   "execution_count": 17,
   "id": "9f253f7c",
   "metadata": {},
   "outputs": [],
   "source": [
    "## saving IMBQ account\n",
    "#IBMQ.save_account('4b6a120274b6a11c2822310045de34b6a1cd1a50e2c4b6a1c2822310045de34b6a1cd3d2794b6a120274b6a11a50e2c4b6a1c2825')IBMQ.load_account()"
   ]
  },
  {
   "cell_type": "code",
   "execution_count": 20,
   "id": "afeda646",
   "metadata": {
    "scrolled": true
   },
   "outputs": [
    {
     "data": {
      "text/plain": [
       "<AccountProvider for IBMQ(hub='ibm-q', group='open', project='main')>"
      ]
     },
     "execution_count": 20,
     "metadata": {},
     "output_type": "execute_result"
    }
   ],
   "source": [
    "IBMQ.load_account()"
   ]
  },
  {
   "cell_type": "code",
   "execution_count": 77,
   "id": "9f83b52d",
   "metadata": {
    "scrolled": true
   },
   "outputs": [
    {
     "data": {
      "image/png": "[encoded data removed]",
      "text/plain": [
       "<Figure size 447.797x264.88 with 1 Axes>"
      ]
     },
     "execution_count": 77,
     "metadata": {},
     "output_type": "execute_result"
    }
   ],
   "source": [
    "## new circuit\n",
    "circuit = QuantumCircuit(3, 3)\n",
    "circuit.h(0)\n",
    "circuit.cx(0,1)\n",
    "circuit.cx(1,2)\n",
    "circuit.measure([0,1,2], [0,1,2])\n",
    "circuit.draw('mpl')"
   ]
  },
  {
   "cell_type": "code",
   "execution_count": 78,
   "id": "099eb591",
   "metadata": {
    "scrolled": false
   },
   "outputs": [
    {
     "data": {
      "image/png": "[encoded data removed]",
      "text/plain": [
       "<Figure size 504x360 with 1 Axes>"
      ]
     },
     "execution_count": 78,
     "metadata": {},
     "output_type": "execute_result"
    }
   ],
   "source": [
    "## checking on simulator before running on cloud\n",
    "\n",
    "result = execute(circuit, backend=simu).result()\n",
    "plot_histogram(result.get_counts(circuit))"
   ]
  },
  {
   "cell_type": "markdown",
   "id": "b13d4267",
   "metadata": {},
   "source": [
    "Listing the backends available"
   ]
  },
  {
   "cell_type": "code",
   "execution_count": 24,
   "id": "8ddba201",
   "metadata": {},
   "outputs": [
    {
     "name": "stdout",
     "output_type": "stream",
     "text": [
      "\n",
      "List of Cloud backends available:\n",
      "ibmq_qasm_simulator\n",
      "ibmq_armonk\n",
      "ibmq_santiago\n",
      "ibmq_bogota\n",
      "ibmq_lima\n",
      "ibmq_belem\n",
      "ibmq_quito\n",
      "simulator_statevector\n",
      "simulator_mps\n",
      "simulator_extended_stabilizer\n",
      "simulator_stabilizer\n",
      "ibmq_manila\n",
      "\n",
      "List of Local backends available: \n",
      "aer_simulator\n",
      "aer_simulator_statevector\n",
      "aer_simulator_density_matrix\n",
      "aer_simulator_stabilizer\n",
      "aer_simulator_matrix_product_state\n",
      "aer_simulator_extended_stabilizer\n",
      "aer_simulator_unitary\n",
      "aer_simulator_superop\n",
      "qasm_simulator\n",
      "statevector_simulator\n",
      "unitary_simulator\n",
      "pulse_simulator\n"
     ]
    }
   ],
   "source": [
    "provider = IBMQ.get_provider('ibm-q')\n",
    "\n",
    "available_cloud_backends = provider.backends() \n",
    "print('\\nList of Cloud backends available:')\n",
    "for i in available_cloud_backends: print(i)\n",
    "\n",
    "available_local_backends = Aer.backends() \n",
    "print('\\nList of Local backends available: ')\n",
    "for i in available_local_backends: print(i)"
   ]
  },
  {
   "cell_type": "code",
   "execution_count": 79,
   "id": "fc3dd6e0",
   "metadata": {},
   "outputs": [],
   "source": [
    "##  Picking a quantum device\n",
    "qcomp = provider.get_backend('ibmq_santiago')"
   ]
  },
  {
   "cell_type": "code",
   "execution_count": 80,
   "id": "2181b533",
   "metadata": {
    "scrolled": true
   },
   "outputs": [
    {
     "name": "stdout",
     "output_type": "stream",
     "text": [
      "Job Status: job has successfully run\n"
     ]
    }
   ],
   "source": [
    "job = execute(circuit, backend=qcomp)\n",
    "job_monitor(job)"
   ]
  },
  {
   "cell_type": "code",
   "execution_count": 28,
   "id": "1f6eb2d0",
   "metadata": {
    "scrolled": true
   },
   "outputs": [
    {
     "data": {
      "image/png": "[encoded data removed]",
      "text/plain": [
       "<Figure size 504x360 with 1 Axes>"
      ]
     },
     "execution_count": 28,
     "metadata": {},
     "output_type": "execute_result"
    }
   ],
   "source": [
    "result = job.result()\n",
    "plot_histogram(result.get_counts(circuit))"
   ]
  },
  {
   "cell_type": "markdown",
   "id": "6f716ffe",
   "metadata": {},
   "source": [
    "## Measurement Error Mitigation"
   ]
  },
  {
   "cell_type": "code",
   "execution_count": 81,
   "id": "e28dddd2",
   "metadata": {},
   "outputs": [],
   "source": [
    "from qiskit.ignis.mitigation.measurement import (complete_meas_cal, CompleteMeasFitter)"
   ]
  },
  {
   "cell_type": "code",
   "execution_count": 90,
   "id": "808f5a25",
   "metadata": {
    "scrolled": false
   },
   "outputs": [
    {
     "data": {
      "image/png": "[encoded data removed]",
      "text/plain": [
       "<Figure size 398.702x264.88 with 1 Axes>"
      ]
     },
     "execution_count": 90,
     "metadata": {},
     "output_type": "execute_result"
    }
   ],
   "source": [
    "cal_circuits, state_labels = complete_meas_cal(qr=circuit.qregs[0], circlabel='measurement_calibration')\n",
    "# This creates a set of circuits to take measurements for each of the 8 basis states for 3 qubits\n",
    "\n",
    "# checking out 2nd calibration circuit\n",
    "cal_circuits[2].draw(output='mpl')"
   ]
  },
  {
   "cell_type": "code",
   "execution_count": 91,
   "id": "d515f310",
   "metadata": {},
   "outputs": [
    {
     "data": {
      "text/plain": [
       "8"
      ]
     },
     "execution_count": 91,
     "metadata": {},
     "output_type": "execute_result"
    }
   ],
   "source": [
    "len(cal_circuits)"
   ]
  },
  {
   "cell_type": "code",
   "execution_count": 92,
   "id": "ad104c88",
   "metadata": {},
   "outputs": [
    {
     "name": "stdout",
     "output_type": "stream",
     "text": [
      "Job Status: job has successfully run\n"
     ]
    }
   ],
   "source": [
    "## running all the calibration circuits on pevious q device\n",
    "cal_job = execute(cal_circuits, backend=qcomp, shots=8192, optimization_level=0)\n",
    "\n",
    "\n",
    "job_monitor(cal_job)\n",
    "cal_results = cal_job.result()"
   ]
  },
  {
   "cell_type": "code",
   "execution_count": 98,
   "id": "37272964",
   "metadata": {
    "scrolled": false
   },
   "outputs": [
    {
     "data": {
      "image/png": "[encoded data removed]",
      "text/plain": [
       "<Figure size 504x360 with 1 Axes>"
      ]
     },
     "execution_count": 98,
     "metadata": {},
     "output_type": "execute_result"
    }
   ],
   "source": [
    "## checking out result of 2nd calibration circuit\n",
    "plot_histogram(cal_results.get_counts(cal_circuits[2]))"
   ]
  },
  {
   "cell_type": "code",
   "execution_count": 94,
   "id": "7646541b",
   "metadata": {
    "scrolled": false
   },
   "outputs": [
    {
     "data": {
      "image/png": "[encoded data removed]",
      "text/plain": [
       "<Figure size 432x288 with 2 Axes>"
      ]
     },
     "metadata": {
      "needs_background": "light"
     },
     "output_type": "display_data"
    }
   ],
   "source": [
    "# Get the measurement fitter object\n",
    "meas_fitter = CompleteMeasFitter(cal_results, state_labels)\n",
    "meas_fitter.plot_calibration()"
   ]
  },
  {
   "cell_type": "code",
   "execution_count": 95,
   "id": "c5782097",
   "metadata": {},
   "outputs": [],
   "source": [
    "## create a measurement filter using the fitte\n",
    "meas_filter = meas_fitter.filter"
   ]
  },
  {
   "cell_type": "code",
   "execution_count": 99,
   "id": "bcb9210a",
   "metadata": {
    "scrolled": true
   },
   "outputs": [
    {
     "data": {
      "image/png": "[encoded data removed]",
      "text/plain": [
       "<Figure size 504x360 with 1 Axes>"
      ]
     },
     "execution_count": 99,
     "metadata": {},
     "output_type": "execute_result"
    }
   ],
   "source": [
    "## Results after appyling noise filter\n",
    "mitigated_counts = meas_filter.apply(result.get_counts(circuit))\n",
    "plot_histogram(mitigated_counts)"
   ]
  },
  {
   "cell_type": "code",
   "execution_count": null,
   "id": "465038c3",
   "metadata": {},
   "outputs": [],
   "source": []
  }
 ],
 "metadata": {
  "kernelspec": {
   "display_name": "Python 3",
   "language": "python",
   "name": "python3"
  },
  "language_info": {
   "codemirror_mode": {
    "name": "ipython",
    "version": 3
   },
   "file_extension": ".py",
   "mimetype": "text/x-python",
   "name": "python",
   "nbconvert_exporter": "python",
   "pygments_lexer": "ipython3",
   "version": "3.9.0"
  }
 },
 "nbformat": 4,
 "nbformat_minor": 5
}
